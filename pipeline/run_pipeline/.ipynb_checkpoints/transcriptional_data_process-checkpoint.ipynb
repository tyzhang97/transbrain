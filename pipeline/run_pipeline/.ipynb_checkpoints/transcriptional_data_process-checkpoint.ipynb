{
 "cells": [
  {
   "cell_type": "markdown",
   "id": "1aed10e2-7770-4e39-8c90-80ab407beaf9",
   "metadata": {},
   "source": [
    "# Jupyter pipeline to preprocess all transcriptional dataset"
   ]
  },
  {
   "cell_type": "code",
   "execution_count": 2,
   "id": "0163eebc",
   "metadata": {},
   "outputs": [],
   "source": [
    "import warnings\n",
    "warnings.filterwarnings('ignore')\n",
    "\n",
    "import os\n",
    "import anndata\n",
    "import numpy as np\n",
    "import pandas as pd\n",
    "import scanpy as sc\n",
    "\n",
    "for sub_folder in ['human_ahba','human_sn','mouse_st']:\n",
    "    \n",
    "    savefolder = os.path.join('../datasets/processeddata',sub_folder)\n",
    "    \n",
    "    if not os.path.exists(savefolder):\n",
    "        os.makedirs(savefolder)"
   ]
  },
  {
   "cell_type": "code",
   "execution_count": 3,
   "id": "9c5dee50-a31c-42e1-a1d1-b694c556078c",
   "metadata": {},
   "outputs": [],
   "source": [
    "import sys\n",
    "sys.path.append('../code/dpreprocess')"
   ]
  },
  {
   "cell_type": "markdown",
   "id": "3e83c46a",
   "metadata": {},
   "source": [
    "# Part1 Preprocessed single-nucleus dataset"
   ]
  },
  {
   "cell_type": "code",
   "execution_count": 3,
   "id": "37f4238a",
   "metadata": {},
   "outputs": [],
   "source": [
    "# Read original single-cell dataset\n",
    "human_sn_data_path = \"../datasets/single_nucleus_dataset/Human_sn_data_H1819.h5ad\"\n",
    "human_sn_data = anndata.read_h5ad(human_sn_data_path) # shape: (2026217, 59480)\n",
    "human_sn_data = human_sn_data[human_sn_data.obs['donor_id'].isin(['H19.30.001','H19.30.002'])] # only use 001 and 002"
   ]
  },
  {
   "cell_type": "code",
   "execution_count": 4,
   "id": "636620a9",
   "metadata": {},
   "outputs": [],
   "source": [
    "human_sn_data = human_sn_data[(human_sn_data.obs['dissection'] != '')]"
   ]
  },
  {
   "cell_type": "code",
   "execution_count": 5,
   "id": "39b9080e-59a5-4a3a-873c-411c5e4c2459",
   "metadata": {},
   "outputs": [],
   "source": [
    "def QC(adata):\n",
    "    \n",
    "    total_UMI_per_cell = np.sum(adata.X, axis=1) \n",
    "    adata.obs['total_UMIs'] = total_UMI_per_cell\n",
    "    sc.pp.filter_cells(adata,min_genes=200)\n",
    "    sc.pp.filter_genes(adata,min_cells=3)\n",
    "    adata = adata[adata.obs.total_UMIs>800]\n",
    "    adata=adata[:,adata.X.sum(axis=0) > 0]\n",
    "    return adata\n",
    "\n",
    "human_sn_data = QC(human_sn_data)"
   ]
  },
  {
   "cell_type": "code",
   "execution_count": 6,
   "id": "7d93b62a-e3a9-4e4c-b907-29b559691359",
   "metadata": {},
   "outputs": [],
   "source": [
    "H1901_adata  = human_sn_data[(human_sn_data.obs['donor_id'] == 'H19.30.001')]\n",
    "H1901_region = set(H1901_adata.obs['dissection'].values)\n",
    "H1902_adata  = human_sn_data[(human_sn_data.obs['donor_id'] == 'H19.30.002')]\n",
    "H1902_region = set(H1902_adata.obs['dissection'].values)"
   ]
  },
  {
   "cell_type": "code",
   "execution_count": 7,
   "id": "ec2e1ab4-93d9-44f8-8368-923821e14ed2",
   "metadata": {},
   "outputs": [],
   "source": [
    "## Split dataset to H1901 and H1902 and save common regions\n",
    "human_sn_data.var_names = human_sn_data.var.Gene\n",
    "H1901_adata  = human_sn_data[(human_sn_data.obs['donor_id'] == 'H19.30.001')]\n",
    "H1901_region = set(H1901_adata.obs['dissection'].values)\n",
    "H1902_adata  = human_sn_data[(human_sn_data.obs['donor_id'] == 'H19.30.002')]\n",
    "H1902_region = set(H1902_adata.obs['dissection'].values)\n",
    "H19_region = [region for region in H1901_region if region in H1902_region]"
   ]
  },
  {
   "cell_type": "code",
   "execution_count": 8,
   "id": "1b0654ec-3bdf-4e2e-b061-32b95e42f5f8",
   "metadata": {},
   "outputs": [],
   "source": [
    "H1901_adata  = H1901_adata[(H1901_adata.obs['dissection'].isin(H19_region))]\n",
    "H1902_adata  = H1902_adata[(H1902_adata.obs['dissection'].isin(H19_region))]\n",
    "# del cell-type\n",
    "del_cell_type=['Choroid plexus','Ependymal','Miscellaneous','Splatter','Vascular']\n",
    "H1901_adata  = H1901_adata[~(H1901_adata.obs['supercluster_term'].isin(del_cell_type))]\n",
    "H1902_adata  = H1902_adata[~(H1902_adata.obs['supercluster_term'].isin(del_cell_type))]"
   ]
  },
  {
   "cell_type": "code",
   "execution_count": 9,
   "id": "6a679cfc-5563-4bce-a9ff-3224219af066",
   "metadata": {},
   "outputs": [],
   "source": [
    "# cross-donor correlations below the threshold (0.6) or those with more than a tenfold difference in cell counts.\n",
    "drop_region = ['Thalamus (THM) - Anterior nuclear complex - ANC', 'Myelencephalon (medulla oblongata) (Mo) - afferent nuclei of cranial nerves in medulla oblongata - MoAN', 'Amygdaloid complex (AMY) - basolateral nuclear group (BLN) - basomedial nucleus (accessory basal nucleus) - BM', 'Paleocortex (PalCx) - Piriform cortex - Pir', 'Tail of Hippocampus (HiT) - Subicular cortex - Sub', 'Thalamus (THM) - intralaminar nuclear complex (ILN) - posterior group of intralaminar nuclei (PILN) - centromedian and parafasicular nuclei - CM and Pf', 'Thalamus (THM) - posterior nuclear complex of thalamus (PoN) - medial geniculate nuclei (MG)', 'Extended amygdala (EXA) - Bed nucleus of stria terminalis and nearby - BNST', 'Body of hippocampus (HiB) - Rostral CA1-CA3', 'Amygdaloid complex (AMY) - basolateral nuclear group (BLN) - basolateral nucleus (basal nucleus) - BL', 'Pons (Pn) - other nuclei in pontine tegmentum (XPnTg) - dorsal tegmental nucleus - DTg', 'Basal nuclei (BN) - Globus pallidus (GP) - Internal segment of globus pallidus - GPi', 'Amygdaloid complex (AMY) - corticomedial nuclear group - CMN', 'Pons (Pn) - afferent nuclei of cranial nerves in pons - PnAN', 'Basal forebrain (BF) - septal nuclei - SEP', 'Midbrain (M) - Pretectal region - PTR', 'Head of hippocampus (HiH) - Uncal DG-CA4', 'Paleocortex (PalCx) - Anterior Olfactory Nucleus - AON', 'Body of hippocampus (HiB) - Rostral DG-CA4', 'Amygdaloid complex (AMY) - Central nuclear group - CEN', 'Tail of Hippocampus (HiT) - Caudal Hippocampus - CA4-DGC', 'Hypothalamus (HTH) - preoptic region of HTH - HTHpo (medial preoptic nucleus, MPN) - supraoptic region of HTH - HTHso (paraventricular nucleus, PV)', 'Hypothalamus (HTH) - mammillary region of HTH (HTHma) - mammillary nucleus - MN']"
   ]
  },
  {
   "cell_type": "code",
   "execution_count": 10,
   "id": "7b145bd7-6ca3-4af6-b1f4-0a09ea3fd678",
   "metadata": {},
   "outputs": [],
   "source": [
    "H1901_adata = H1901_adata[~H1901_adata.obs['dissection'].isin(drop_region)]\n",
    "H1902_adata = H1902_adata[~H1902_adata.obs['dissection'].isin(drop_region)]"
   ]
  },
  {
   "cell_type": "code",
   "execution_count": 11,
   "id": "cb35d4bc-f4ed-489a-9a43-e28f374966ce",
   "metadata": {},
   "outputs": [],
   "source": [
    "H1901_adata.write(\"../datasets/single_nucleus_dataset/Human_sn_data_H19001.h5ad\")"
   ]
  },
  {
   "cell_type": "code",
   "execution_count": 12,
   "id": "271b6841-3113-47db-a30c-c83c2bfca2f0",
   "metadata": {},
   "outputs": [],
   "source": [
    "H1902_adata.write(\"../datasets/single_nucleus_dataset/Human_sn_data_H19002.h5ad\")"
   ]
  },
  {
   "cell_type": "raw",
   "id": "0c546fc5-331c-4267-ad94-26f83ad476cf",
   "metadata": {},
   "source": [
    "! run_sn.py"
   ]
  },
  {
   "cell_type": "markdown",
   "id": "8db1e942-b774-475f-9d0b-89fc81097849",
   "metadata": {},
   "source": [
    "# Part2 Preprocessed AHBA dataset"
   ]
  },
  {
   "cell_type": "code",
   "execution_count": 3,
   "id": "e2e1d1b3-b6d6-4b6a-a0b4-d5b8cd55d7d0",
   "metadata": {},
   "outputs": [],
   "source": [
    "def ex_scaled(ex_d_sample):\n",
    "    ex_d_sample_adata = anndata.AnnData(ex_d_sample.values)\n",
    "    sc.pp.scale(ex_d_sample_adata,max_value=10)\n",
    "    ex_d_sample_scaled = pd.DataFrame(ex_d_sample_adata.X,index = ex_d_sample.index.values ,columns = ex_d_sample.columns.values)\n",
    "    return ex_d_sample_scaled"
   ]
  },
  {
   "cell_type": "markdown",
   "id": "3d20ed5b-06ef-4dd0-a5bb-675c3a8c9308",
   "metadata": {},
   "source": [
    "## Human brain atlas used in our study "
   ]
  },
  {
   "cell_type": "code",
   "execution_count": 4,
   "id": "739280d3-2943-45b8-af6d-b4a7bb1dd73a",
   "metadata": {},
   "outputs": [],
   "source": [
    "from ahba_ import extract_AHBA_data"
   ]
  },
  {
   "cell_type": "code",
   "execution_count": 5,
   "id": "c4d0d693-68ff-40bf-893c-a679e9032671",
   "metadata": {},
   "outputs": [],
   "source": [
    "ex_d_sample_brain_atlas = extract_AHBA_data('/share/user_data/zhishenii/shangzhengii/TransBrain_Git/TransBrain/Atlas/Human_127atlas_2mm_symmetry.nii.gz','/share/user_data/zhishenii/shangzhengii/TransBrain_Git/TransBrain/Atlas/Human_brain_atlas_127.csv')"
   ]
  },
  {
   "cell_type": "code",
   "execution_count": 6,
   "id": "0e90d9e8-f043-443a-9b05-2c3c7c244704",
   "metadata": {},
   "outputs": [],
   "source": [
    "ex_d_sample_brain_atlas_concat = pd.concat(ex_d_sample_brain_atlas.values())"
   ]
  },
  {
   "cell_type": "code",
   "execution_count": 7,
   "id": "9637aede-b2ad-4f55-89df-3d99a0808f22",
   "metadata": {},
   "outputs": [],
   "source": [
    "Human_127_info = pd.read_csv('/share/user_data/zhishenii/shangzhengii/TransBrain_Git/TransBrain/Atlas/Human_brain_atlas_127.csv')"
   ]
  },
  {
   "cell_type": "code",
   "execution_count": 8,
   "id": "9fd0b66d-c828-419a-9ee6-3054a6418674",
   "metadata": {},
   "outputs": [],
   "source": [
    "cortex_regions = Human_127_info['Anatomical Name'].values[:105]\n",
    "subcortex_regions = Human_127_info['Anatomical Name'].values[105:]"
   ]
  },
  {
   "cell_type": "code",
   "execution_count": 9,
   "id": "1b53f4e3-348d-4d17-bbc2-b5687597f0b3",
   "metadata": {},
   "outputs": [],
   "source": [
    "ex_d_sample_brain_atlas_cortex = ex_d_sample_brain_atlas_concat[ex_d_sample_brain_atlas_concat.index.isin(cortex_regions)]"
   ]
  },
  {
   "cell_type": "code",
   "execution_count": 10,
   "id": "efc6c1df-3251-47b4-a790-b740fa74409e",
   "metadata": {},
   "outputs": [],
   "source": [
    "ex_d_sample_brain_atlas_subcortex = ex_d_sample_brain_atlas_concat[ex_d_sample_brain_atlas_concat.index.isin(subcortex_regions)]"
   ]
  },
  {
   "cell_type": "code",
   "execution_count": 11,
   "id": "ca147b27-bfdf-4692-b1a3-b6f18657a34d",
   "metadata": {},
   "outputs": [],
   "source": [
    "ex_d_sample_brain_atlas_concat = ex_scaled(ex_d_sample_brain_atlas_concat)\n",
    "ex_d_sample_brain_atlas_cortex = ex_scaled(ex_d_sample_brain_atlas_cortex)\n",
    "ex_d_sample_brain_atlas_subcortex = ex_scaled(ex_d_sample_brain_atlas_subcortex)"
   ]
  },
  {
   "cell_type": "code",
   "execution_count": 12,
   "id": "2362c821-1e57-4a62-a658-aa6b18791b7b",
   "metadata": {},
   "outputs": [],
   "source": [
    "ex_d_sample_brain_atlas_concat.to_csv('../datasets/processeddata/human_ahba/ex_d_sample_brain_atlas.csv')\n",
    "ex_d_sample_brain_atlas_cortex.to_csv('../datasets/processeddata/human_ahba/ex_d_sample_brain_atlas_cortex.csv')\n",
    "ex_d_sample_brain_atlas_subcortex.to_csv('../datasets/processeddata/human_ahba/ex_d_sample_brain_atlas_subcortex.csv')"
   ]
  },
  {
   "cell_type": "code",
   "execution_count": 14,
   "id": "0c2c056b-77ea-4c11-838c-096e651dfafc",
   "metadata": {},
   "outputs": [],
   "source": [
    "for s_name, ex_ in zip(['ex_d_sample_brain_atlas_mean.csv','ex_d_sample_brain_atlas_cortex_mean.csv','ex_d_sample_brain_atlas_subcortex_mean.csv'],\n",
    "                       [ex_d_sample_brain_atlas_concat,ex_d_sample_brain_atlas_cortex,ex_d_sample_brain_atlas_subcortex]):\n",
    "    ex_mean = ex_.groupby(ex_.index).mean()\n",
    "    ex_mean.to_csv('../datasets/processeddata/human_ahba/{}'.format(s_name))"
   ]
  },
  {
   "cell_type": "code",
   "execution_count": 10,
   "id": "aa21136a-d019-4b68-ad80-0e588d3538c6",
   "metadata": {},
   "outputs": [],
   "source": [
    "generate_independent_dataset(ex_d_sample_brain_atlas, cortex_regions, type_='cortex', save_dir='../datasets/processeddata/human_ahba/independent_dataset')\n",
    "generate_independent_dataset(ex_d_sample_brain_atlas, subcortex_regions, type_='subcortex', save_dir='../datasets/processeddata/human_ahba/independent_dataset')\n",
    "generate_independent_dataset(ex_d_sample_brain_atlas, set(ex_d_sample_brain_atlas_concat.index.values), type_='all', save_dir='../datasets/processeddata/human_ahba/independent_dataset')"
   ]
  },
  {
   "cell_type": "markdown",
   "id": "22385512-c721-436d-b511-909d6972d324",
   "metadata": {},
   "source": [
    "## Human sn atlas"
   ]
  },
  {
   "cell_type": "code",
   "execution_count": 11,
   "id": "86befb0f-8088-4a8d-ae5f-7c6dfa970216",
   "metadata": {},
   "outputs": [],
   "source": [
    "ex_d_sample_sn_atlas = extract_AHBA_data('/share/user_data/zhishenii/shangzhengii/TransBrain_Git/TransBrain/Atlas/Allensc_atlas_2mm.nii.gz','/share/user_data/zhishenii/shangzhengii/TransBrain_Git/TransBrain/Atlas/Human_single_cell_atlas.csv')"
   ]
  },
  {
   "cell_type": "code",
   "execution_count": 12,
   "id": "4cbe6830-38cb-4a5e-9d19-869574c266e0",
   "metadata": {},
   "outputs": [],
   "source": [
    "Human_sn_atlas_csv = pd.read_csv('/share/user_data/zhishenii/shangzhengii/TransBrain_Git/TransBrain/Atlas/Human_single_cell_atlas.csv')"
   ]
  },
  {
   "cell_type": "code",
   "execution_count": 17,
   "id": "d50e2d7d-f998-48e5-acf7-8ed77d5c1e3e",
   "metadata": {},
   "outputs": [],
   "source": [
    "ex_d_sample_sn_atlas_concat = pd.concat(ex_d_sample_sn_atlas.values())"
   ]
  },
  {
   "cell_type": "code",
   "execution_count": 23,
   "id": "a8720b43-17af-463b-bf89-b704aa42bb7a",
   "metadata": {},
   "outputs": [],
   "source": [
    "cortex_regions = list(set(ex_d_sample_sn_atlas_concat.index[ex_d_sample_sn_atlas_concat.index.str.contains('Cerebral cortex')]))\n",
    "subcortex_regions = [i for i in Human_sn_atlas_csv['Anatomical Name'].values if i not in cortex_regions]"
   ]
  },
  {
   "cell_type": "code",
   "execution_count": 27,
   "id": "4ea66aea-addb-47e5-884d-413598eff464",
   "metadata": {},
   "outputs": [],
   "source": [
    "ex_d_sample_sn_atlas_concat = ex_d_sample_sn_atlas_concat[ex_d_sample_sn_atlas_concat.index.isin(cortex_regions+subcortex_regions)]"
   ]
  },
  {
   "cell_type": "code",
   "execution_count": 29,
   "id": "d4fa33af-0996-4927-adc7-492d9ad50af5",
   "metadata": {},
   "outputs": [],
   "source": [
    "ex_d_sample_sn_atlas_cortex = ex_d_sample_sn_atlas_concat[ex_d_sample_sn_atlas_concat.index.isin(cortex_regions)]\n",
    "ex_d_sample_sn_atlas_subcortex = ex_d_sample_sn_atlas_concat[ex_d_sample_sn_atlas_concat.index.isin(subcortex_regions)]"
   ]
  },
  {
   "cell_type": "code",
   "execution_count": 30,
   "id": "2c05972e-e51a-49c0-be54-04e80d8e962a",
   "metadata": {},
   "outputs": [],
   "source": [
    "ex_d_sample_sn_atlas_concat = ex_scaled(ex_d_sample_sn_atlas_concat)\n",
    "ex_d_sample_sn_atlas_cortex = ex_scaled(ex_d_sample_sn_atlas_cortex)\n",
    "ex_d_sample_sn_atlas_subcortex = ex_scaled(ex_d_sample_sn_atlas_subcortex)"
   ]
  },
  {
   "cell_type": "code",
   "execution_count": 31,
   "id": "a3683e06-4210-4b57-b0c9-6fa42c6c832e",
   "metadata": {},
   "outputs": [],
   "source": [
    "for s_name, ex_ in zip(['ex_d_sample_sn_atlas_mean.csv','ex_d_sample_sn_atlas_cortex_mean.csv','ex_d_sample_sn_atlas_subcortex_mean.csv'],\n",
    "                       [ex_d_sample_sn_atlas_concat,ex_d_sample_sn_atlas_cortex,ex_d_sample_sn_atlas_subcortex]):\n",
    "    ex_mean = ex_.groupby(ex_.index).mean()\n",
    "    ex_mean.to_csv('../datasets/processeddata/human_ahba/{}'.format(s_name))"
   ]
  },
  {
   "cell_type": "markdown",
   "id": "2f920fd8-238e-4af4-a509-1984cf727da1",
   "metadata": {},
   "source": [
    "# Part3 Preprocessed Mouse ST dataset"
   ]
  },
  {
   "cell_type": "code",
   "execution_count": 74,
   "id": "d920a9d9",
   "metadata": {
    "scrolled": true
   },
   "outputs": [],
   "source": [
    "mouse_adata = anndata.read_h5ad('../datasets/mouse_dataset/Mouse_ST_adata_normalized.h5ad')"
   ]
  },
  {
   "cell_type": "code",
   "execution_count": 75,
   "id": "de26ce09-535a-4036-9b28-d099803829f4",
   "metadata": {},
   "outputs": [
    {
     "data": {
      "text/plain": [
       "AnnData object with n_obs × n_vars = 34053 × 15324\n",
       "    obs: 'section_index', 'stereo_ML', 'stereo_DV', 'stereo_AP', 'HE_X', 'HE_Y', 'ABA_acronym', 'ABA_name', 'ABA_parent', 'nuclei_segmented', 'spot_radius', 'passed_QC', 'cluster_id', 'cluster_name', 'Region'\n",
       "    var: 'Gene'"
      ]
     },
     "execution_count": 75,
     "metadata": {},
     "output_type": "execute_result"
    }
   ],
   "source": [
    "mouse_adata"
   ]
  },
  {
   "cell_type": "code",
   "execution_count": 76,
   "id": "926f1126-bfd0-479c-9536-c9a577fab3c2",
   "metadata": {},
   "outputs": [],
   "source": [
    "homo_gene = pd.read_csv('./files/hm_homo_gene.csv')"
   ]
  },
  {
   "cell_type": "code",
   "execution_count": 77,
   "id": "81ac2dcf-d6d5-4b5b-bef5-b29413112b29",
   "metadata": {},
   "outputs": [],
   "source": [
    "new_var_names = []\n",
    "for mouse_gene in mouse_adata.var['Gene'].values:\n",
    "    if mouse_gene in homo_gene['10090'].values:\n",
    "        sc_gene = homo_gene.loc[homo_gene['10090'] == mouse_gene, '9606'].values[0]\n",
    "        new_var_names.append(sc_gene)\n",
    "    else:\n",
    "        new_var_names.append(mouse_gene)"
   ]
  },
  {
   "cell_type": "code",
   "execution_count": 78,
   "id": "cf88aee5-5e8d-499d-8867-818fbeae8fc7",
   "metadata": {},
   "outputs": [],
   "source": [
    "mouse_adata.var['Gene'] = new_var_names"
   ]
  },
  {
   "cell_type": "code",
   "execution_count": 79,
   "id": "95ca83f9-4aaf-432b-ae3a-3197eb7845d6",
   "metadata": {},
   "outputs": [],
   "source": [
    "duplicate_mask = mouse_adata.var['Gene'].duplicated(keep=False)"
   ]
  },
  {
   "cell_type": "code",
   "execution_count": 80,
   "id": "d8775272-19f2-45fc-8ddb-25dc7c973fe4",
   "metadata": {},
   "outputs": [],
   "source": [
    "mouse_adata = mouse_adata[:,~duplicate_mask]"
   ]
  },
  {
   "cell_type": "code",
   "execution_count": 81,
   "id": "433880e3-6abd-43e3-95e3-dd0cc23afca3",
   "metadata": {},
   "outputs": [],
   "source": [
    "cortex_region = set(mouse_adata.obs[mouse_adata.obs['ABA_parent'] == 'Isocortex']['Region'])"
   ]
  },
  {
   "cell_type": "code",
   "execution_count": 82,
   "id": "6d718042",
   "metadata": {},
   "outputs": [],
   "source": [
    "mouse_adata_cortex = mouse_adata[mouse_adata.obs['Region'].isin(cortex_region)]\n",
    "mouse_adata_subcortex = mouse_adata[~mouse_adata.obs['Region'].isin(cortex_region)]\n",
    "mouse_adata_subcortex = mouse_adata_subcortex[mouse_adata_subcortex.obs['Region']!='other']"
   ]
  },
  {
   "cell_type": "code",
   "execution_count": 83,
   "id": "843c32eb",
   "metadata": {
    "scrolled": true
   },
   "outputs": [],
   "source": [
    "sc.pp.scale(mouse_adata,max_value=10)\n",
    "sc.pp.scale(mouse_adata_cortex,max_value=10)\n",
    "sc.pp.scale(mouse_adata_subcortex,max_value=10)"
   ]
  },
  {
   "cell_type": "code",
   "execution_count": 87,
   "id": "b2e9359c-8ca7-4a26-8013-1f5c2f7d19df",
   "metadata": {},
   "outputs": [],
   "source": [
    "mouse_adata.write(\"../datasets/processeddata/mouse_st/Mouse_adata_preprocessed.h5ad\")"
   ]
  },
  {
   "cell_type": "code",
   "execution_count": 88,
   "id": "f6d5ccfb-d8a2-409a-99a8-4b53abec7155",
   "metadata": {},
   "outputs": [],
   "source": [
    "mouse_adata_cortex.write(\"../datasets/processeddata/mouse_st/Mouse_adata_cortex_preprocessed.h5ad\")"
   ]
  },
  {
   "cell_type": "code",
   "execution_count": 89,
   "id": "f8fb7e02-83ed-4998-9003-3a3adf59268c",
   "metadata": {},
   "outputs": [],
   "source": [
    "mouse_adata_subcortex.write(\"../datasets/processeddata/mouse_st/Mouse_adata_subcortex_preprocessed.h5ad\")"
   ]
  },
  {
   "cell_type": "code",
   "execution_count": null,
   "id": "aaa7546b-34e0-456b-a884-6f131ab5c181",
   "metadata": {},
   "outputs": [],
   "source": []
  }
 ],
 "metadata": {
  "kernelspec": {
   "display_name": "shangzhengNetwork",
   "language": "python",
   "name": "shangzhengnetwork"
  },
  "language_info": {
   "codemirror_mode": {
    "name": "ipython",
    "version": 3
   },
   "file_extension": ".py",
   "mimetype": "text/x-python",
   "name": "python",
   "nbconvert_exporter": "python",
   "pygments_lexer": "ipython3",
   "version": "3.11.8"
  }
 },
 "nbformat": 4,
 "nbformat_minor": 5
}
